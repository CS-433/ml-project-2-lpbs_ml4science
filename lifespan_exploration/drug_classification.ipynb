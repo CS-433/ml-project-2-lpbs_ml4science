{
 "cells": [
  {
   "cell_type": "code",
   "execution_count": 1,
   "metadata": {},
   "outputs": [],
   "source": [
    "#Import libraries\n",
    "import numpy as np\n",
    "import pandas as pd\n",
    "import os\n",
    "import matplotlib.pyplot as plt\n",
    "from sklearn.linear_model import LogisticRegression\n",
    "from sklearn.metrics import accuracy_score, precision_score, recall_score, f1_score, confusion_matrix\n",
    "from sklearn.impute import SimpleImputer\n",
    "from sklearn.tree import DecisionTreeClassifier\n",
    "from sklearn.ensemble import RandomForestClassifier\n",
    "from sklearn.svm import SVC\n",
    "from sklearn.naive_bayes import GaussianNB\n",
    "from sklearn.preprocessing import StandardScaler"
   ]
  },
  {
   "cell_type": "code",
   "execution_count": 3,
   "metadata": {},
   "outputs": [],
   "source": [
    "csv = '../lifespan_merged_datasets/mergedworms_companyDrug.csv'# Read the CSV file\n",
    "data = pd.read_csv(csv)\n",
    "np.random.seed(42)"
   ]
  },
  {
   "cell_type": "code",
   "execution_count": 6,
   "metadata": {},
   "outputs": [
    {
     "name": "stdout",
     "output_type": "stream",
     "text": [
      "Unnamed: 0                    0\n",
      "group                         0\n",
      "average_speed                 0\n",
      "average_distance_per_frame    0\n",
      "maximal_distance_traveled     0\n",
      "average_change_in_pixels      0\n",
      "average_angular_speed         0\n",
      "distance_travaled             0\n",
      "distance_travaled.1           0\n",
      "average_change_speed          0\n",
      "time_elapsed_(hours)          0\n",
      "std_speed                     2\n",
      "std/mean                      2\n",
      "roaming_fraction              0\n",
      "lifespan                      0\n",
      "drugged                       0\n",
      "worm_id                       0\n",
      "dtype: int64\n"
     ]
    }
   ],
   "source": [
    "print(data.isna().sum())\n",
    "\n",
    "# print(f\"Shape {data.shape}\")\n",
    "# # Print all column headers\n",
    "# print(data.columns)"
   ]
  },
  {
   "cell_type": "code",
   "execution_count": 4,
   "metadata": {},
   "outputs": [
    {
     "name": "stdout",
     "output_type": "stream",
     "text": [
      "47    84\n",
      "3     84\n",
      "37    84\n",
      "27    84\n",
      "25    84\n",
      "43    84\n",
      "2     84\n",
      "11    84\n",
      "9     84\n",
      "7     84\n",
      "5     84\n",
      "44    84\n",
      "32    84\n",
      "24    84\n",
      "12    84\n",
      "10    84\n",
      "8     84\n",
      "4     84\n",
      "19    84\n",
      "45    83\n",
      "46    83\n",
      "42    83\n",
      "41    82\n",
      "23    80\n",
      "17    72\n",
      "30    72\n",
      "6     72\n",
      "26    72\n",
      "28    72\n",
      "34    72\n",
      "21    72\n",
      "40    72\n",
      "31    72\n",
      "14    71\n",
      "15    70\n",
      "29    70\n",
      "20    67\n",
      "18    60\n",
      "13    60\n",
      "39    60\n",
      "1     60\n",
      "48    60\n",
      "16    60\n",
      "35    60\n",
      "38    60\n",
      "33    59\n",
      "36    55\n",
      "22    48\n",
      "Name: worm_id, dtype: int64\n"
     ]
    }
   ],
   "source": [
    "# Count occurrences of values in the 'worm_id' column\n",
    "value_counts = data['worm_id'].value_counts()\n",
    "\n",
    "# Print the counts\n",
    "# print(value_counts.sort_values(axis=0, ascending=False))"
   ]
  },
  {
   "cell_type": "code",
   "execution_count": 5,
   "metadata": {},
   "outputs": [
    {
     "data": {
      "text/plain": [
       "(48,)"
      ]
     },
     "execution_count": 5,
     "metadata": {},
     "output_type": "execute_result"
    }
   ],
   "source": [
    "value_counts.shape"
   ]
  },
  {
   "cell_type": "code",
   "execution_count": 6,
   "metadata": {},
   "outputs": [],
   "source": [
    "from training_functions import *\n",
    "#splits data by worm id into train and test, 80/20 test train split\n",
    "train_data, test_data = split_by_worm_id(data, test_size=0.2)\n",
    "X_train, y_train, X_test, y_test = train_test_x_and_y(train_data, test_data)"
   ]
  },
  {
   "cell_type": "code",
   "execution_count": null,
   "metadata": {},
   "outputs": [],
   "source": []
  },
  {
   "cell_type": "code",
   "execution_count": 7,
   "metadata": {},
   "outputs": [],
   "source": [
    "# test_value_counts = test_data['worm_id'].value_counts()\n",
    "# train_value_counts = train_data['worm_id'].value_counts()"
   ]
  },
  {
   "cell_type": "code",
   "execution_count": 8,
   "metadata": {},
   "outputs": [],
   "source": [
    "#Check to make sure it works\n",
    "# train_value_counts.shape"
   ]
  },
  {
   "cell_type": "code",
   "execution_count": 9,
   "metadata": {},
   "outputs": [],
   "source": [
    "from training_functions import *\n",
    "#splits data by worm id into train and test, 80/20 test train split\n",
    "train_data, test_data = split_by_worm_id(data, test_size=0.2)\n",
    "\n",
    "\n",
    "# train_data.loc(train_data['std_speed'] == None)\n",
    "\n",
    "X_train, y_train, X_test, y_test = train_test_x_and_y(train_data, test_data)\n"
   ]
  },
  {
   "cell_type": "code",
   "execution_count": 10,
   "metadata": {},
   "outputs": [
    {
     "name": "stdout",
     "output_type": "stream",
     "text": [
      "NaNs in X_train: id                          False\n",
      "average_speed               False\n",
      "average_change_in_pixels    False\n",
      "average_angular_speed       False\n",
      "total_distance_traveled     False\n",
      "distance_traveled_bin       False\n",
      "time_elapsed_(hours)        False\n",
      "std_speed                    True\n",
      "std/mean                     True\n",
      "roaming_fraction            False\n",
      "lifespan                    False\n",
      "dtype: bool\n",
      "NaNs in y_train: False\n",
      "Infinity values in X_train: id                          False\n",
      "average_speed               False\n",
      "average_change_in_pixels    False\n",
      "average_angular_speed       False\n",
      "total_distance_traveled     False\n",
      "distance_traveled_bin       False\n",
      "time_elapsed_(hours)        False\n",
      "std_speed                   False\n",
      "std/mean                    False\n",
      "roaming_fraction            False\n",
      "lifespan                    False\n",
      "dtype: bool\n"
     ]
    }
   ],
   "source": [
    "# # Check for NaN values in X_train and y_train\n",
    "# print(\"NaNs in X_train:\", np.isnan(X_train).any())\n",
    "# print(\"NaNs in y_train:\", np.isnan(y_train).any())\n",
    "\n",
    "# Check for infinity values in X_train\n",
    "# print(\"Infinity values in X_train:\", np.isinf(X_train).any())\n",
    "\n",
    "# sample imputing (NEED TO IMPROVE) -- ONLY TEMPORARY\n",
    "if np.isnan(X_train).any().any() or np.isnan(X_test).any().any():\n",
    "  # Impute missing values with the median\n",
    "  imputer = SimpleImputer(strategy='median')\n",
    "  X_train = imputer.fit_transform(X_train)\n",
    "  X_test = imputer.fit_transform(X_test)\n",
    "\n"
   ]
  },
  {
   "cell_type": "markdown",
   "metadata": {},
   "source": [
    "# Models"
   ]
  },
  {
   "cell_type": "markdown",
   "metadata": {},
   "source": [
    "## Logistic Regression"
   ]
  },
  {
   "cell_type": "code",
   "execution_count": 11,
   "metadata": {},
   "outputs": [
    {
     "name": "stdout",
     "output_type": "stream",
     "text": [
      "Accuracy: 0.7485714285714286\n",
      "Precision: 0.6321953990343653\n",
      "Recall: 0.7485714285714286\n",
      "F1-score: 0.6717089985486211\n",
      "Confusion Matrix:\n",
      " [[328   0   1]\n",
      " [ 32 196   0]\n",
      " [143   0   0]]\n"
     ]
    },
    {
     "name": "stderr",
     "output_type": "stream",
     "text": [
      "/opt/anaconda3/lib/python3.7/site-packages/sklearn/linear_model/_sag.py:330: ConvergenceWarning: The max_iter was reached which means the coef_ did not converge\n",
      "  \"the coef_ did not converge\", ConvergenceWarning)\n"
     ]
    }
   ],
   "source": [
    "\n",
    "scaler_train = StandardScaler()\n",
    "scaler_train.fit(X_train)\n",
    "scaled_X_train = scaler_train.transform(X_train)\n",
    "\n",
    "\n",
    "scaler_test = StandardScaler()\n",
    "scaler_test.fit(X_test)\n",
    "scaled_X_test = scaler_test.transform(X_test)\n",
    "\n",
    "model = LogisticRegression(penalty='l2', max_iter=700, multi_class='multinomial', class_weight={0:0.5,1:0.25,2:0.25}, solver='saga')\n",
    "# model = LogisticRegression(penalty='l2', max_iter=700, multi_class='multinomial')\n",
    "\n",
    "model.fit(scaled_X_train, y_train)\n",
    "\n",
    "# Make predictions\n",
    "y_pred = model.predict(scaled_X_test)\n",
    "\n",
    "# Evaluate the model\n",
    "accuracy = accuracy_score(y_test, y_pred)\n",
    "precision = precision_score(y_test, y_pred, average='weighted')\n",
    "recall = recall_score(y_test, y_pred, average='weighted')\n",
    "f1 = f1_score(y_test, y_pred, average='weighted')\n",
    "print(\"Accuracy:\", accuracy)\n",
    "print(\"Precision:\", precision)\n",
    "print(\"Recall:\", recall)\n",
    "print(\"F1-score:\", f1)\n",
    "print(\"Confusion Matrix:\\n\", confusion_matrix(y_test, y_pred))"
   ]
  },
  {
   "cell_type": "code",
   "execution_count": 12,
   "metadata": {},
   "outputs": [
    {
     "name": "stdout",
     "output_type": "stream",
     "text": [
      "[[-1.70443769e+00  3.54523500e-01 -1.35581173e-03 ... -2.51086395e-01\n",
      "   7.80467366e-01  1.37439780e+00]\n",
      " [-1.70344190e+00  9.25923130e-01 -2.50205344e-02 ...  1.24966174e+00\n",
      "  -3.70104499e-01  1.37439780e+00]\n",
      " [-1.70244611e+00 -9.74682518e-02  1.67710356e-02 ... -2.85984875e-01\n",
      "   2.91772465e-01  1.37439780e+00]\n",
      " ...\n",
      " [ 1.79277655e+00 -3.82108862e-01  3.64906922e-03 ... -8.42432780e-01\n",
      "  -7.57942966e-01 -1.22193043e+00]\n",
      " [ 1.79377234e+00 -3.82030990e-01  7.99842117e-03 ... -6.98038568e-01\n",
      "  -7.57942966e-01 -1.22193043e+00]\n",
      " [ 1.79476813e+00 -3.76379142e-01  2.84170231e-02 ... -8.35471215e-01\n",
      "  -7.57942966e-01 -1.22193043e+00]]\n"
     ]
    }
   ],
   "source": [
    "print(scaled_X_train)"
   ]
  },
  {
   "cell_type": "markdown",
   "metadata": {},
   "source": [
    "## Decision Tree Classifier"
   ]
  },
  {
   "cell_type": "code",
   "execution_count": 13,
   "metadata": {},
   "outputs": [
    {
     "name": "stdout",
     "output_type": "stream",
     "text": [
      "Accuracy: 1.0\n",
      "Precision: 1.0\n",
      "Recall: 1.0\n",
      "F1-score: 1.0\n",
      "Confusion Matrix:\n",
      " [[329   0   0]\n",
      " [  0 228   0]\n",
      " [  0   0 143]]\n"
     ]
    }
   ],
   "source": [
    "# Create and train the model\n",
    "model = DecisionTreeClassifier()\n",
    "model.fit(X_train, y_train)\n",
    "\n",
    "# Make predictions\n",
    "y_pred = model.predict(X_test)\n",
    "\n",
    "# Evaluate the model\n",
    "accuracy = accuracy_score(y_test, y_pred)\n",
    "precision = precision_score(y_test, y_pred, average='weighted')\n",
    "recall = recall_score(y_test, y_pred, average='weighted')\n",
    "f1 = f1_score(y_test, y_pred, average='weighted')\n",
    "print(\"Accuracy:\", accuracy)\n",
    "print(\"Precision:\", precision)\n",
    "print(\"Recall:\", recall)\n",
    "print(\"F1-score:\", f1)\n",
    "print(\"Confusion Matrix:\\n\", confusion_matrix(y_test, y_pred))"
   ]
  },
  {
   "cell_type": "markdown",
   "metadata": {},
   "source": [
    "## Random Forest Classifier"
   ]
  },
  {
   "cell_type": "code",
   "execution_count": 14,
   "metadata": {},
   "outputs": [
    {
     "name": "stdout",
     "output_type": "stream",
     "text": [
      "Accuracy: 0.71\n",
      "Precision: 0.733439302632851\n",
      "Recall: 0.71\n",
      "F1-score: 0.7188131563990412\n",
      "Confusion Matrix:\n",
      " [[206   0 123]\n",
      " [  0 228   0]\n",
      " [ 80   0  63]]\n"
     ]
    }
   ],
   "source": [
    "# Create and train the model\n",
    "model = RandomForestClassifier()\n",
    "model.fit(X_train, y_train)\n",
    "\n",
    "# Make predictions\n",
    "y_pred = model.predict(X_test)\n",
    "\n",
    "# Evaluate the model\n",
    "accuracy = accuracy_score(y_test, y_pred)\n",
    "precision = precision_score(y_test, y_pred, average='weighted')\n",
    "recall = recall_score(y_test, y_pred, average='weighted')\n",
    "f1 = f1_score(y_test, y_pred, average='weighted')\n",
    "print(\"Accuracy:\", accuracy)\n",
    "print(\"Precision:\", precision)\n",
    "print(\"Recall:\", recall)\n",
    "print(\"F1-score:\", f1)\n",
    "print(\"Confusion Matrix:\\n\", confusion_matrix(y_test, y_pred))"
   ]
  },
  {
   "cell_type": "markdown",
   "metadata": {},
   "source": [
    "## Support Vector Machine"
   ]
  },
  {
   "cell_type": "code",
   "execution_count": 15,
   "metadata": {},
   "outputs": [
    {
     "name": "stdout",
     "output_type": "stream",
     "text": [
      "Accuracy: 0.6371428571428571\n",
      "Precision: 0.590945846606224\n",
      "Recall: 0.6371428571428571\n",
      "F1-score: 0.5600201318513676\n",
      "Confusion Matrix:\n",
      " [[329   0   0]\n",
      " [111 117   0]\n",
      " [143   0   0]]\n"
     ]
    },
    {
     "name": "stderr",
     "output_type": "stream",
     "text": [
      "/opt/anaconda3/lib/python3.7/site-packages/sklearn/metrics/_classification.py:1272: UndefinedMetricWarning: Precision is ill-defined and being set to 0.0 in labels with no predicted samples. Use `zero_division` parameter to control this behavior.\n",
      "  _warn_prf(average, modifier, msg_start, len(result))\n"
     ]
    }
   ],
   "source": [
    "# Create and train the model\n",
    "model = SVC()\n",
    "model.fit(X_train, y_train)\n",
    "\n",
    "# Make predictions\n",
    "y_pred = model.predict(X_test)\n",
    "\n",
    "# Evaluate the model\n",
    "accuracy = accuracy_score(y_test, y_pred)\n",
    "precision = precision_score(y_test, y_pred, average='weighted')\n",
    "recall = recall_score(y_test, y_pred, average='weighted')\n",
    "f1 = f1_score(y_test, y_pred, average='weighted')\n",
    "print(\"Accuracy:\", accuracy)\n",
    "print(\"Precision:\", precision)\n",
    "print(\"Recall:\", recall)\n",
    "print(\"F1-score:\", f1)\n",
    "print(\"Confusion Matrix:\\n\", confusion_matrix(y_test, y_pred))"
   ]
  },
  {
   "cell_type": "markdown",
   "metadata": {},
   "source": [
    "## Naive Bayes"
   ]
  },
  {
   "cell_type": "code",
   "execution_count": 16,
   "metadata": {},
   "outputs": [
    {
     "name": "stdout",
     "output_type": "stream",
     "text": [
      "Accuracy: 0.7771428571428571\n",
      "Precision: 0.6809778376759509\n",
      "Recall: 0.7771428571428571\n",
      "F1-score: 0.7006035226392082\n",
      "Confusion Matrix:\n",
      " [[326   0   3]\n",
      " [  9 217   2]\n",
      " [142   0   1]]\n"
     ]
    }
   ],
   "source": [
    "# Create and train the model\n",
    "model = GaussianNB()\n",
    "model.fit(X_train, y_train)\n",
    "\n",
    "# Make predictions\n",
    "y_pred = model.predict(X_test)\n",
    "\n",
    "# Evaluate the model\n",
    "accuracy = accuracy_score(y_test, y_pred)\n",
    "precision = precision_score(y_test, y_pred, average='weighted')\n",
    "recall = recall_score(y_test, y_pred, average='weighted')\n",
    "f1 = f1_score(y_test, y_pred, average='weighted')\n",
    "print(\"Accuracy:\", accuracy)\n",
    "print(\"Precision:\", precision)\n",
    "print(\"Recall:\", recall)\n",
    "print(\"F1-score:\", f1)\n",
    "print(\"Confusion Matrix:\\n\", confusion_matrix(y_test, y_pred))"
   ]
  },
  {
   "cell_type": "code",
   "execution_count": 17,
   "metadata": {},
   "outputs": [
    {
     "name": "stdout",
     "output_type": "stream",
     "text": [
      "y_train\n",
      " 0    1418\n",
      "1     744\n",
      "2     713\n",
      "Name: drugged, dtype: int64\n",
      "y_test\n",
      " 0    329\n",
      "1    228\n",
      "2    143\n",
      "Name: drugged, dtype: int64\n"
     ]
    }
   ],
   "source": [
    "print(\"y_train\\n\", y_train.value_counts())\n",
    "print(\"y_test\\n\", y_test.value_counts())"
   ]
  },
  {
   "cell_type": "code",
   "execution_count": null,
   "metadata": {},
   "outputs": [],
   "source": []
  },
  {
   "cell_type": "markdown",
   "metadata": {},
   "source": [
    "## LSTM"
   ]
  },
  {
   "cell_type": "code",
   "execution_count": 18,
   "metadata": {},
   "outputs": [],
   "source": [
    "import tensorflow as tf\n",
    "from tensorflow.keras.models import Sequential\n",
    "from tensorflow.keras.layers import LSTM, Dense"
   ]
  },
  {
   "cell_type": "code",
   "execution_count": 19,
   "metadata": {},
   "outputs": [
    {
     "name": "stdout",
     "output_type": "stream",
     "text": [
      "Epoch 1/10\n",
      "90/90 [==============================] - 5s 7ms/step - loss: 0.6961\n",
      "Epoch 2/10\n",
      "90/90 [==============================] - 1s 8ms/step - loss: 0.6798\n",
      "Epoch 3/10\n",
      "90/90 [==============================] - 1s 7ms/step - loss: 0.6732\n",
      "Epoch 4/10\n",
      "90/90 [==============================] - 1s 7ms/step - loss: 0.6641\n",
      "Epoch 5/10\n",
      "90/90 [==============================] - 1s 12ms/step - loss: 0.6464\n",
      "Epoch 6/10\n",
      "90/90 [==============================] - 1s 14ms/step - loss: 0.6186\n",
      "Epoch 7/10\n",
      "90/90 [==============================] - 1s 13ms/step - loss: 0.5733\n",
      "Epoch 8/10\n",
      "90/90 [==============================] - 1s 13ms/step - loss: 0.5398\n",
      "Epoch 9/10\n",
      "90/90 [==============================] - 1s 11ms/step - loss: 0.5246\n",
      "Epoch 10/10\n",
      "90/90 [==============================] - 1s 8ms/step - loss: 0.5057\n"
     ]
    },
    {
     "data": {
      "text/plain": [
       "<keras.callbacks.History at 0x7f8b48db0090>"
      ]
     },
     "execution_count": 19,
     "metadata": {},
     "output_type": "execute_result"
    }
   ],
   "source": [
    "# # Create the LSTM model\n",
    "# model = Sequential()\n",
    "# model.add(LSTM(units=50, return_sequences=True, input_shape=(X_train.shape[1], 1)))\n",
    "# model.add(LSTM(units=50))\n",
    "# model.add(Dense(1))\n",
    "\n",
    "# # Compile the model\n",
    "# model.compile(loss='mean_squared_error', optimizer='adam')\n",
    "\n",
    "# # Train the model\n",
    "# model.fit(X_train, y_train, epochs=10, batch_size=32)"
   ]
  },
  {
   "cell_type": "code",
   "execution_count": 20,
   "metadata": {},
   "outputs": [
    {
     "name": "stdout",
     "output_type": "stream",
     "text": [
      "22/22 [==============================] - 1s 3ms/step\n",
      "Accuracy: 0.32\n",
      "Precision: 0.26662366305220203\n",
      "Recall: 0.32\n",
      "F1-score: 0.2727987518726291\n",
      "Confusion Matrix:\n",
      " [[ 86 243   0]\n",
      " [ 90 138   0]\n",
      " [ 63  80   0]]\n"
     ]
    },
    {
     "name": "stderr",
     "output_type": "stream",
     "text": [
      "/opt/anaconda3/lib/python3.7/site-packages/sklearn/metrics/_classification.py:1272: UndefinedMetricWarning: Precision is ill-defined and being set to 0.0 in labels with no predicted samples. Use `zero_division` parameter to control this behavior.\n",
      "  _warn_prf(average, modifier, msg_start, len(result))\n"
     ]
    }
   ],
   "source": [
    "y_pred = model.predict(X_test)\n",
    "# Assuming y_pred contains predicted probabilities for each class\n",
    "thresholds = [0.5, 1.5]\n",
    "y_pred_labels = np.zeros_like(y_pred)\n",
    "y_pred_labels[y_pred < thresholds[0]] = 0\n",
    "y_pred_labels[(y_pred >= thresholds[0]) & (y_pred < thresholds[1])] = 1\n",
    "y_pred_labels[y_pred >= thresholds[1]] = 2\n",
    "y_pred_labels = y_pred_labels.astype(int)\n",
    "\n",
    "# Assuming y_test contains the true labels\n",
    "accuracy = accuracy_score(y_test, y_pred_labels)\n",
    "precision = precision_score(y_test, y_pred_labels, average='weighted')\n",
    "recall = recall_score(y_test, y_pred_labels, average='weighted')\n",
    "f1 = f1_score(y_test, y_pred_labels, average='weighted')\n",
    "conf_matrix = confusion_matrix(y_test, y_pred_labels)\n",
    "\n",
    "print(\"Accuracy:\", accuracy)\n",
    "print(\"Precision:\", precision)\n",
    "print(\"Recall:\", recall)\n",
    "print(\"F1-score:\", f1)\n",
    "print(\"Confusion Matrix:\\n\", conf_matrix)"
   ]
  },
  {
   "cell_type": "code",
   "execution_count": 21,
   "metadata": {},
   "outputs": [],
   "source": [
    "np.corrcoef(train_data)\n",
    "\n",
    "for x in train_data.columns:\n",
    "    for z in train_data.columns:\n",
    "        if (np.corrcoef(train_data[x], y=train_data[z]))[0][1] > 0.75 and x != z:\n",
    "            print(x,z)\n",
    "            print(np.corrcoef(train_data[x], y=train_data[z]))\n",
    "\n",
    "#speed and distance are the same, drop 1\n",
    "#maximal distance travelled and distance 1:1"
   ]
  },
  {
   "cell_type": "code",
   "execution_count": 22,
   "metadata": {},
   "outputs": [
    {
     "data": {
      "text/plain": [
       "<bound method NDFrame.head of         id  average_speed  average_change_in_pixels  average_angular_speed  \\\n",
       "60      60       0.937451                 -0.012129               1.365049   \n",
       "61      61       1.634150                 -0.048443               1.108255   \n",
       "62      62       0.386344                  0.015686               1.158382   \n",
       "63      63       0.683949                  0.019406               1.526128   \n",
       "64      64       0.340302                 -0.003337               1.688612   \n",
       "...    ...            ...                       ...                    ...   \n",
       "3570  3570       0.043177                  0.000000               1.505476   \n",
       "3571  3571       0.071912                  0.001112               1.495528   \n",
       "3572  3572       0.039286                 -0.004449               1.556866   \n",
       "3573  3573       0.039381                  0.002225               1.475976   \n",
       "3574  3574       0.046272                  0.033557               1.634871   \n",
       "\n",
       "      total_distance_traveled  distance_traveled_bin  time_elapsed_(hours)  \\\n",
       "60                1390.286835            1390.286835              0.412778   \n",
       "61                4495.117293            3104.830458              6.500000   \n",
       "62                5258.336109             763.218816             12.439444   \n",
       "63                6661.574240            1403.238131             18.500000   \n",
       "64                7320.149447             658.575208             24.500000   \n",
       "...                       ...                    ...                   ...   \n",
       "3570             99393.746045              77.650496            330.500000   \n",
       "3571             99523.148578             129.402533            336.500000   \n",
       "3572             99593.849023              70.700445            342.500000   \n",
       "3573             99664.655228              70.806205            348.500000   \n",
       "3574             99747.424657              82.769429            354.497222   \n",
       "\n",
       "      std_speed  std/mean  roaming_fraction    lifespan  drugged  \n",
       "60     3.059388  3.263519          0.347709  498.496111        1  \n",
       "61    13.042817  7.981409          0.087659  498.496111        1  \n",
       "62     1.218454  3.153809          0.237255  498.496111        1  \n",
       "63     2.008433  2.936524          0.510274  498.496111        1  \n",
       "64     0.751521  2.208393          0.194661  498.496111        1  \n",
       "...         ...       ...               ...         ...      ...  \n",
       "3570   0.055008  1.274003          0.000000    0.105556        0  \n",
       "3571   0.170472  2.370579          0.000000    0.105556        0  \n",
       "3572   0.055177  1.404509          0.000000    0.105556        0  \n",
       "3573   0.073186  1.858440          0.000000    0.105556        0  \n",
       "3574   0.066002  1.426394          0.000000    0.105556        0  \n",
       "\n",
       "[2875 rows x 12 columns]>"
      ]
     },
     "execution_count": 22,
     "metadata": {},
     "output_type": "execute_result"
    }
   ],
   "source": [
    "train_data.head"
   ]
  },
  {
   "cell_type": "code",
   "execution_count": null,
   "metadata": {},
   "outputs": [],
   "source": []
  },
  {
   "cell_type": "code",
   "execution_count": null,
   "metadata": {},
   "outputs": [],
   "source": []
  },
  {
   "cell_type": "markdown",
   "metadata": {},
   "source": [
    "## K-Fold Cross Validation"
   ]
  },
  {
   "cell_type": "code",
   "execution_count": 1,
   "metadata": {},
   "outputs": [],
   "source": [
    "from training_functions import *\n",
    "csv = '../lifespan_merged_datasets/mergedworms_companyDrug.csv'# Read the CSV file'# Read the CSV file\n",
    "data = pd.read_csv(csv)\n",
    "random_state = 42\n"
   ]
  },
  {
   "cell_type": "markdown",
   "metadata": {},
   "source": [
    "### Random Forest Classifier"
   ]
  },
  {
   "cell_type": "code",
   "execution_count": 2,
   "metadata": {},
   "outputs": [
    {
     "name": "stdout",
     "output_type": "stream",
     "text": [
      "              precision    recall  f1-score   support\n",
      "\n",
      "           0       0.53      1.00      0.69        83\n",
      "           1       1.00      0.71      0.83       252\n",
      "\n",
      "    accuracy                           0.78       335\n",
      "   macro avg       0.76      0.85      0.76       335\n",
      "weighted avg       0.88      0.78      0.79       335\n",
      "\n",
      "\n",
      "Feature Importances:\n",
      "lifespan: 0.4950\n",
      "total_distance_traveled: 0.1199\n",
      "average_angular_speed: 0.0836\n",
      "distance_traveled_bin: 0.0454\n",
      "average_speed: 0.0441\n",
      "std_speed: 0.0429\n",
      "std/mean: 0.0414\n",
      "roaming_fraction: 0.0350\n",
      "time_elapsed_(hours): 0.0335\n",
      "group: 0.0316\n",
      "average_change_in_pixels: 0.0276\n",
      "              precision    recall  f1-score   support\n",
      "\n",
      "           0       0.72      1.00      0.84       226\n",
      "           1       1.00      0.47      0.64       168\n",
      "\n",
      "    accuracy                           0.77       394\n",
      "   macro avg       0.86      0.74      0.74       394\n",
      "weighted avg       0.84      0.77      0.75       394\n",
      "\n",
      "\n",
      "Feature Importances:\n",
      "lifespan: 0.4290\n",
      "total_distance_traveled: 0.1380\n",
      "average_angular_speed: 0.0896\n",
      "distance_traveled_bin: 0.0503\n",
      "average_speed: 0.0495\n",
      "std_speed: 0.0477\n",
      "roaming_fraction: 0.0458\n",
      "std/mean: 0.0437\n",
      "average_change_in_pixels: 0.0360\n",
      "group: 0.0356\n",
      "time_elapsed_(hours): 0.0347\n",
      "              precision    recall  f1-score   support\n",
      "\n",
      "           0       1.00      0.57      0.72       300\n",
      "           1       0.39      1.00      0.56        84\n",
      "\n",
      "    accuracy                           0.66       384\n",
      "   macro avg       0.70      0.78      0.64       384\n",
      "weighted avg       0.87      0.66      0.69       384\n",
      "\n",
      "\n",
      "Feature Importances:\n",
      "lifespan: 0.4758\n",
      "total_distance_traveled: 0.1390\n",
      "average_angular_speed: 0.0688\n",
      "average_speed: 0.0465\n",
      "std_speed: 0.0460\n",
      "distance_traveled_bin: 0.0454\n",
      "std/mean: 0.0410\n",
      "roaming_fraction: 0.0383\n",
      "average_change_in_pixels: 0.0340\n",
      "time_elapsed_(hours): 0.0338\n",
      "group: 0.0315\n",
      "              precision    recall  f1-score   support\n",
      "\n",
      "           0       0.45      0.42      0.43       144\n",
      "           1       0.67      0.70      0.68       240\n",
      "\n",
      "    accuracy                           0.59       384\n",
      "   macro avg       0.56      0.56      0.56       384\n",
      "weighted avg       0.59      0.59      0.59       384\n",
      "\n",
      "\n",
      "Feature Importances:\n",
      "lifespan: 0.6979\n",
      "total_distance_traveled: 0.1004\n",
      "average_angular_speed: 0.0369\n",
      "average_speed: 0.0293\n",
      "distance_traveled_bin: 0.0267\n",
      "roaming_fraction: 0.0223\n",
      "std_speed: 0.0214\n",
      "std/mean: 0.0210\n",
      "time_elapsed_(hours): 0.0163\n",
      "group: 0.0139\n",
      "average_change_in_pixels: 0.0139\n",
      "              precision    recall  f1-score   support\n",
      "\n",
      "           0       0.57      0.95      0.72       166\n",
      "           1       0.93      0.49      0.64       228\n",
      "\n",
      "    accuracy                           0.68       394\n",
      "   macro avg       0.75      0.72      0.68       394\n",
      "weighted avg       0.78      0.68      0.67       394\n",
      "\n",
      "\n",
      "Feature Importances:\n",
      "lifespan: 0.5142\n",
      "total_distance_traveled: 0.0938\n",
      "average_angular_speed: 0.0838\n",
      "average_speed: 0.0436\n",
      "std/mean: 0.0434\n",
      "distance_traveled_bin: 0.0422\n",
      "std_speed: 0.0417\n",
      "roaming_fraction: 0.0398\n",
      "group: 0.0335\n",
      "average_change_in_pixels: 0.0323\n",
      "time_elapsed_(hours): 0.0318\n",
      "Mean Accuracy: 0.70\n",
      "Standard Deviation: 0.07\n"
     ]
    }
   ],
   "source": [
    "rfc_accuracy, rfc_stdev = group_kfold_validation(data, model_select=\"random_forest\", random_state=random_state)"
   ]
  },
  {
   "cell_type": "markdown",
   "metadata": {},
   "source": [
    "### Decision Tree Classifier"
   ]
  },
  {
   "cell_type": "code",
   "execution_count": 3,
   "metadata": {},
   "outputs": [
    {
     "name": "stdout",
     "output_type": "stream",
     "text": [
      "              precision    recall  f1-score   support\n",
      "\n",
      "           0       0.45      1.00      0.62        83\n",
      "           1       1.00      0.59      0.74       252\n",
      "\n",
      "    accuracy                           0.69       335\n",
      "   macro avg       0.72      0.80      0.68       335\n",
      "weighted avg       0.86      0.69      0.71       335\n",
      "\n",
      "              precision    recall  f1-score   support\n",
      "\n",
      "           0       0.71      1.00      0.83       226\n",
      "           1       1.00      0.45      0.62       168\n",
      "\n",
      "    accuracy                           0.77       394\n",
      "   macro avg       0.86      0.73      0.73       394\n",
      "weighted avg       0.83      0.77      0.74       394\n",
      "\n",
      "              precision    recall  f1-score   support\n",
      "\n",
      "           0       1.00      0.38      0.55       300\n",
      "           1       0.31      1.00      0.48        84\n",
      "\n",
      "    accuracy                           0.52       384\n",
      "   macro avg       0.66      0.69      0.52       384\n",
      "weighted avg       0.85      0.52      0.54       384\n",
      "\n",
      "              precision    recall  f1-score   support\n",
      "\n",
      "           0       0.45      0.42      0.43       144\n",
      "           1       0.67      0.70      0.68       240\n",
      "\n",
      "    accuracy                           0.59       384\n",
      "   macro avg       0.56      0.56      0.56       384\n",
      "weighted avg       0.59      0.59      0.59       384\n",
      "\n",
      "              precision    recall  f1-score   support\n",
      "\n",
      "           0       0.61      0.93      0.74       166\n",
      "           1       0.92      0.57      0.70       228\n",
      "\n",
      "    accuracy                           0.72       394\n",
      "   macro avg       0.77      0.75      0.72       394\n",
      "weighted avg       0.79      0.72      0.72       394\n",
      "\n",
      "Mean Accuracy: 0.66\n",
      "Standard Deviation: 0.09\n"
     ]
    }
   ],
   "source": [
    "dtc_accuracy, dtc_stdev = group_kfold_validation(data, model_select=\"decision_tree\", random_state=random_state)"
   ]
  },
  {
   "cell_type": "markdown",
   "metadata": {},
   "source": [
    "### Logistic Regression"
   ]
  },
  {
   "cell_type": "code",
   "execution_count": 4,
   "metadata": {},
   "outputs": [
    {
     "name": "stdout",
     "output_type": "stream",
     "text": [
      "              precision    recall  f1-score   support\n",
      "\n",
      "           0       0.53      1.00      0.69        83\n",
      "           1       1.00      0.71      0.83       252\n",
      "\n",
      "    accuracy                           0.78       335\n",
      "   macro avg       0.77      0.86      0.76       335\n",
      "weighted avg       0.88      0.78      0.80       335\n",
      "\n",
      "              precision    recall  f1-score   support\n",
      "\n",
      "           0       0.99      0.67      0.80       226\n",
      "           1       0.69      0.99      0.82       168\n",
      "\n",
      "    accuracy                           0.81       394\n",
      "   macro avg       0.84      0.83      0.81       394\n",
      "weighted avg       0.87      0.81      0.81       394\n",
      "\n",
      "              precision    recall  f1-score   support\n",
      "\n",
      "           0       0.99      0.51      0.67       300\n",
      "           1       0.36      0.99      0.53        84\n",
      "\n",
      "    accuracy                           0.61       384\n",
      "   macro avg       0.68      0.75      0.60       384\n",
      "weighted avg       0.85      0.61      0.64       384\n",
      "\n",
      "              precision    recall  f1-score   support\n",
      "\n",
      "           0       0.45      0.51      0.48       144\n",
      "           1       0.68      0.63      0.66       240\n",
      "\n",
      "    accuracy                           0.59       384\n",
      "   macro avg       0.57      0.57      0.57       384\n",
      "weighted avg       0.60      0.59      0.59       384\n",
      "\n",
      "              precision    recall  f1-score   support\n",
      "\n",
      "           0       0.39      0.55      0.46       166\n",
      "           1       0.53      0.37      0.44       228\n",
      "\n",
      "    accuracy                           0.45       394\n",
      "   macro avg       0.46      0.46      0.45       394\n",
      "weighted avg       0.47      0.45      0.44       394\n",
      "\n",
      "Mean Accuracy: 0.65\n",
      "Standard Deviation: 0.13\n"
     ]
    }
   ],
   "source": [
    "log_accuracy, log_stdev = group_kfold_validation(data, model_select=\"logistic\", random_state=random_state)"
   ]
  },
  {
   "cell_type": "markdown",
   "metadata": {},
   "source": [
    "### Linear SVM"
   ]
  },
  {
   "cell_type": "code",
   "execution_count": 5,
   "metadata": {},
   "outputs": [
    {
     "name": "stdout",
     "output_type": "stream",
     "text": [
      "              precision    recall  f1-score   support\n",
      "\n",
      "           0       0.50      1.00      0.67        83\n",
      "           1       1.00      0.67      0.81       252\n",
      "\n",
      "    accuracy                           0.76       335\n",
      "   macro avg       0.75      0.84      0.74       335\n",
      "weighted avg       0.88      0.76      0.77       335\n",
      "\n",
      "              precision    recall  f1-score   support\n",
      "\n",
      "           0       0.96      0.92      0.94       226\n",
      "           1       0.89      0.95      0.92       168\n",
      "\n",
      "    accuracy                           0.93       394\n",
      "   macro avg       0.93      0.93      0.93       394\n",
      "weighted avg       0.93      0.93      0.93       394\n",
      "\n",
      "              precision    recall  f1-score   support\n",
      "\n",
      "           0       1.00      0.70      0.82       300\n",
      "           1       0.48      1.00      0.65        84\n",
      "\n",
      "    accuracy                           0.76       384\n",
      "   macro avg       0.74      0.85      0.73       384\n",
      "weighted avg       0.89      0.76      0.78       384\n",
      "\n",
      "              precision    recall  f1-score   support\n",
      "\n",
      "           0       0.41      0.67      0.51       144\n",
      "           1       0.68      0.42      0.52       240\n",
      "\n",
      "    accuracy                           0.51       384\n",
      "   macro avg       0.54      0.55      0.51       384\n",
      "weighted avg       0.58      0.51      0.51       384\n",
      "\n",
      "              precision    recall  f1-score   support\n",
      "\n",
      "           0       0.41      0.53      0.46       166\n",
      "           1       0.56      0.44      0.50       228\n",
      "\n",
      "    accuracy                           0.48       394\n",
      "   macro avg       0.49      0.49      0.48       394\n",
      "weighted avg       0.50      0.48      0.48       394\n",
      "\n",
      "Mean Accuracy: 0.69\n",
      "Standard Deviation: 0.17\n"
     ]
    }
   ],
   "source": [
    "svm_accuracy, svm_stdev = group_kfold_validation(data, model_select=\"svm\", random_state=random_state)"
   ]
  },
  {
   "cell_type": "markdown",
   "metadata": {},
   "source": [
    "### XGBoost"
   ]
  },
  {
   "cell_type": "code",
   "execution_count": 6,
   "metadata": {},
   "outputs": [
    {
     "name": "stdout",
     "output_type": "stream",
     "text": [
      "              precision    recall  f1-score   support\n",
      "\n",
      "           0       0.52      1.00      0.68        83\n",
      "           1       1.00      0.69      0.82       252\n",
      "\n",
      "    accuracy                           0.77       335\n",
      "   macro avg       0.76      0.85      0.75       335\n",
      "weighted avg       0.88      0.77      0.79       335\n",
      "\n",
      "\n",
      "Feature Importances:\n",
      "lifespan: 0.4166\n",
      "total_distance_traveled: 0.1496\n",
      "average_angular_speed: 0.0909\n",
      "roaming_fraction: 0.0683\n",
      "average_speed: 0.0574\n",
      "group: 0.0566\n",
      "distance_traveled_bin: 0.0484\n",
      "std_speed: 0.0448\n",
      "average_change_in_pixels: 0.0341\n",
      "std/mean: 0.0332\n",
      "time_elapsed_(hours): 0.0000\n",
      "              precision    recall  f1-score   support\n",
      "\n",
      "           0       0.73      1.00      0.84       226\n",
      "           1       1.00      0.50      0.67       168\n",
      "\n",
      "    accuracy                           0.79       394\n",
      "   macro avg       0.86      0.75      0.75       394\n",
      "weighted avg       0.84      0.79      0.77       394\n",
      "\n",
      "\n",
      "Feature Importances:\n",
      "lifespan: 0.3795\n",
      "total_distance_traveled: 0.1437\n",
      "average_angular_speed: 0.0873\n",
      "group: 0.0838\n",
      "roaming_fraction: 0.0737\n",
      "average_speed: 0.0611\n",
      "distance_traveled_bin: 0.0445\n",
      "std_speed: 0.0361\n",
      "average_change_in_pixels: 0.0358\n",
      "std/mean: 0.0345\n",
      "time_elapsed_(hours): 0.0200\n",
      "              precision    recall  f1-score   support\n",
      "\n",
      "           0       1.00      0.38      0.55       300\n",
      "           1       0.31      1.00      0.48        84\n",
      "\n",
      "    accuracy                           0.52       384\n",
      "   macro avg       0.66      0.69      0.52       384\n",
      "weighted avg       0.85      0.52      0.54       384\n",
      "\n",
      "\n",
      "Feature Importances:\n",
      "lifespan: 0.3898\n",
      "total_distance_traveled: 0.2337\n",
      "average_angular_speed: 0.0644\n",
      "group: 0.0591\n",
      "average_speed: 0.0563\n",
      "roaming_fraction: 0.0450\n",
      "std_speed: 0.0426\n",
      "std/mean: 0.0375\n",
      "distance_traveled_bin: 0.0358\n",
      "average_change_in_pixels: 0.0357\n",
      "time_elapsed_(hours): 0.0000\n",
      "              precision    recall  f1-score   support\n",
      "\n",
      "           0       0.45      0.42      0.43       144\n",
      "           1       0.67      0.70      0.68       240\n",
      "\n",
      "    accuracy                           0.59       384\n",
      "   macro avg       0.56      0.56      0.56       384\n",
      "weighted avg       0.59      0.59      0.59       384\n",
      "\n",
      "\n",
      "Feature Importances:\n",
      "lifespan: 1.0000\n",
      "group: 0.0000\n",
      "average_speed: 0.0000\n",
      "average_change_in_pixels: 0.0000\n",
      "average_angular_speed: 0.0000\n",
      "total_distance_traveled: 0.0000\n",
      "distance_traveled_bin: 0.0000\n",
      "time_elapsed_(hours): 0.0000\n",
      "std_speed: 0.0000\n",
      "std/mean: 0.0000\n",
      "roaming_fraction: 0.0000\n",
      "              precision    recall  f1-score   support\n",
      "\n",
      "           0       0.54      1.00      0.70       166\n",
      "           1       1.00      0.37      0.54       228\n",
      "\n",
      "    accuracy                           0.63       394\n",
      "   macro avg       0.77      0.68      0.62       394\n",
      "weighted avg       0.80      0.63      0.61       394\n",
      "\n",
      "\n",
      "Feature Importances:\n",
      "lifespan: 0.4888\n",
      "average_angular_speed: 0.1023\n",
      "total_distance_traveled: 0.0750\n",
      "group: 0.0578\n",
      "distance_traveled_bin: 0.0521\n",
      "roaming_fraction: 0.0510\n",
      "average_speed: 0.0483\n",
      "std_speed: 0.0462\n",
      "std/mean: 0.0420\n",
      "average_change_in_pixels: 0.0364\n",
      "time_elapsed_(hours): 0.0000\n",
      "Mean Accuracy: 0.66\n",
      "Standard Deviation: 0.10\n"
     ]
    }
   ],
   "source": [
    "xgb_accuracy, xgb_stdev = group_kfold_validation(data, model_select=\"xgboost\", random_state=random_state)"
   ]
  },
  {
   "cell_type": "markdown",
   "metadata": {},
   "source": [
    "<!-- ## Linear Regression -->"
   ]
  },
  {
   "cell_type": "code",
   "execution_count": 8,
   "metadata": {},
   "outputs": [],
   "source": [
    "# lin_accuracy, lin_stdev = group_kfold_validation(data, model_select=\"linear\", random_state=random_state)"
   ]
  },
  {
   "cell_type": "code",
   "execution_count": 11,
   "metadata": {},
   "outputs": [],
   "source": [
    "results = {\n",
    "    \"Model\": [\"Logistic Regression\", \"Decision Tree Classifier\", \"Random Forest Classifier\", \"SVM\", \"XGBoost\"],\n",
    "    \"Mean Accuracy\": [log_accuracy, dtc_accuracy, rfc_accuracy, svm_accuracy, xgb_accuracy],\n",
    "    \"Std Deviation\": [log_stdev, dtc_stdev, rfc_stdev, svm_stdev, xgb_stdev],\n",
    "}"
   ]
  },
  {
   "cell_type": "code",
   "execution_count": 12,
   "metadata": {},
   "outputs": [
    {
     "name": "stdout",
     "output_type": "stream",
     "text": [
      "5-fold Cross Validation with Random Seed 42\n",
      "\n",
      "                      Model  Mean Accuracy  Std Deviation\n",
      "0       Logistic Regression       0.519201       0.090461\n",
      "1  Decision Tree Classifier       0.439865       0.090284\n",
      "2  Random Forest Classifier       0.494260       0.085541\n",
      "3                       SVM       0.431536       0.095198\n",
      "4                   XGBoost       0.440228       0.072414\n"
     ]
    }
   ],
   "source": [
    "# Create a DataFrame from the dictionary\n",
    "results_df = pd.DataFrame(results)\n",
    "\n",
    "# Print the table\n",
    "print(f\"5-fold Cross Validation with Random Seed {random_state}\\n\")\n",
    "print(results_df)"
   ]
  },
  {
   "cell_type": "code",
   "execution_count": null,
   "metadata": {},
   "outputs": [],
   "source": []
  },
  {
   "cell_type": "code",
   "execution_count": null,
   "metadata": {},
   "outputs": [],
   "source": []
  },
  {
   "cell_type": "code",
   "execution_count": 11,
   "metadata": {},
   "outputs": [],
   "source": []
  },
  {
   "cell_type": "code",
   "execution_count": null,
   "metadata": {},
   "outputs": [
    {
     "name": "stdout",
     "output_type": "stream",
     "text": [
      "XGBoost Mean Accuracy: 0.9421\n",
      "XGBoost Std Deviation: 0.0390\n"
     ]
    }
   ],
   "source": []
  },
  {
   "cell_type": "code",
   "execution_count": null,
   "metadata": {},
   "outputs": [],
   "source": []
  },
  {
   "cell_type": "code",
   "execution_count": 1,
   "metadata": {},
   "outputs": [
    {
     "name": "stderr",
     "output_type": "stream",
     "text": [
      "/opt/anaconda3/lib/python3.7/site-packages/sklearn/linear_model/_sag.py:354: ConvergenceWarning: The max_iter was reached which means the coef_ did not converge\n",
      "  ConvergenceWarning,\n"
     ]
    },
    {
     "name": "stdout",
     "output_type": "stream",
     "text": [
      "              precision    recall  f1-score   support\n",
      "\n",
      "           0       0.73      0.77      0.75       443\n",
      "           1       0.89      1.00      0.94       168\n",
      "           2       0.06      0.04      0.05       129\n",
      "\n",
      "    accuracy                           0.69       740\n",
      "   macro avg       0.56      0.60      0.58       740\n",
      "weighted avg       0.65      0.69      0.67       740\n",
      "\n"
     ]
    },
    {
     "name": "stderr",
     "output_type": "stream",
     "text": [
      "/opt/anaconda3/lib/python3.7/site-packages/sklearn/linear_model/_sag.py:354: ConvergenceWarning: The max_iter was reached which means the coef_ did not converge\n",
      "  ConvergenceWarning,\n"
     ]
    },
    {
     "name": "stdout",
     "output_type": "stream",
     "text": [
      "              precision    recall  f1-score   support\n",
      "\n",
      "           0       0.69      0.81      0.74       406\n",
      "           1       0.95      1.00      0.97       168\n",
      "           2       0.08      0.04      0.05       156\n",
      "\n",
      "    accuracy                           0.69       730\n",
      "   macro avg       0.57      0.62      0.59       730\n",
      "weighted avg       0.62      0.69      0.65       730\n",
      "\n"
     ]
    },
    {
     "name": "stderr",
     "output_type": "stream",
     "text": [
      "/opt/anaconda3/lib/python3.7/site-packages/sklearn/linear_model/_sag.py:354: ConvergenceWarning: The max_iter was reached which means the coef_ did not converge\n",
      "  ConvergenceWarning,\n"
     ]
    },
    {
     "name": "stdout",
     "output_type": "stream",
     "text": [
      "              precision    recall  f1-score   support\n",
      "\n",
      "           0       0.53      0.87      0.66       315\n",
      "           1       1.00      0.37      0.54       300\n",
      "           2       0.16      0.12      0.14        72\n",
      "\n",
      "    accuracy                           0.58       687\n",
      "   macro avg       0.56      0.46      0.45       687\n",
      "weighted avg       0.70      0.58      0.55       687\n",
      "\n"
     ]
    },
    {
     "name": "stderr",
     "output_type": "stream",
     "text": [
      "/opt/anaconda3/lib/python3.7/site-packages/sklearn/linear_model/_sag.py:354: ConvergenceWarning: The max_iter was reached which means the coef_ did not converge\n",
      "  ConvergenceWarning,\n"
     ]
    },
    {
     "name": "stdout",
     "output_type": "stream",
     "text": [
      "              precision    recall  f1-score   support\n",
      "\n",
      "           0       0.42      0.85      0.56       202\n",
      "           1       1.00      0.94      0.97       252\n",
      "           2       0.09      0.01      0.02       228\n",
      "\n",
      "    accuracy                           0.61       682\n",
      "   macro avg       0.50      0.60      0.52       682\n",
      "weighted avg       0.52      0.61      0.53       682\n",
      "\n",
      "              precision    recall  f1-score   support\n",
      "\n",
      "           0       0.48      0.64      0.55       381\n",
      "           1       0.39      1.00      0.56        84\n",
      "           2       0.54      0.03      0.05       271\n",
      "\n",
      "    accuracy                           0.46       736\n",
      "   macro avg       0.47      0.56      0.39       736\n",
      "weighted avg       0.49      0.46      0.37       736\n",
      "\n",
      "Mean Accuracy: 0.60\n",
      "Standard Deviation: 0.09\n",
      "Mean Accuracy: 0.6041616614213489\n",
      "Standard Deviation: 0.08757475629459449\n"
     ]
    },
    {
     "name": "stderr",
     "output_type": "stream",
     "text": [
      "/opt/anaconda3/lib/python3.7/site-packages/sklearn/linear_model/_sag.py:354: ConvergenceWarning: The max_iter was reached which means the coef_ did not converge\n",
      "  ConvergenceWarning,\n"
     ]
    }
   ],
   "source": [
    "from training_functions import *\n",
    "csv = 'mergedworms.csv'# Read the CSV file\n",
    "data = pd.read_csv(csv)\n",
    "random_state = 6\n",
    "\n",
    "rfc_accuracy, rfc_stdev = group_kfold_validation(data, model_select=\"logistic\", random_state=random_state)\n",
    "print(f\"Mean Accuracy: {rfc_accuracy}\")\n",
    "print(f\"Standard Deviation: {rfc_stdev}\")"
   ]
  },
  {
   "cell_type": "code",
   "execution_count": null,
   "metadata": {},
   "outputs": [],
   "source": []
  },
  {
   "cell_type": "markdown",
   "metadata": {},
   "source": [
    "## Run for all models together"
   ]
  },
  {
   "cell_type": "code",
   "execution_count": 9,
   "metadata": {},
   "outputs": [],
   "source": [
    "from training_functions import *\n",
    "csv = '../lifespan_merged_datasets/mergedworms_companyDrug.csv'# Read the CSV file'# Read the CSV file\n",
    "data = pd.read_csv(csv)\n",
    "random_state = 42"
   ]
  },
  {
   "cell_type": "code",
   "execution_count": 10,
   "metadata": {},
   "outputs": [
    {
     "name": "stdout",
     "output_type": "stream",
     "text": [
      "Evaluating model: logistic\n",
      "Evaluating model: random_forest\n",
      "Evaluating model: decision_tree\n",
      "Evaluating model: svm\n",
      "Evaluating model: xgboost\n",
      "Evaluating model: knn\n",
      "Evaluating model: naive_bayes\n",
      "Evaluating model: mlp_classifier\n",
      "Evaluating model: stacking_classifier\n",
      "\n",
      "Model Evaluation Results: Classification of CompanyDrug\n",
      "\n",
      "                 model  mean_accuracy  std_deviation\n",
      "0             logistic       0.675370       0.141958\n",
      "1        random_forest       0.698233       0.070437\n",
      "2        decision_tree       0.658873       0.090438\n",
      "3                  svm       0.741053       0.137489\n",
      "4              xgboost       0.635823       0.083021\n",
      "5                  knn       0.465153       0.022586\n",
      "6          naive_bayes       0.633849       0.074939\n",
      "7       mlp_classifier       0.486598       0.178961\n",
      "8  stacking_classifier       0.678577       0.083003\n"
     ]
    }
   ],
   "source": [
    "# Call the function with your dataset\n",
    "results = group_kfold_validation_all_models(data)\n",
    "\n",
    "results_binary_companydrug = pd.DataFrame(results) #.sort_values(by=\"mean_accuracy\", ascending=False)\n",
    "\n",
    "print(\"\\nModel Evaluation Results: Classification of CompanyDrug\\n\")\n",
    "print(results_binary_companydrug)\n",
    "\n",
    "# # Print results as a table\n",
    "# print(\"\\nModel Evaluation Results: Classification of CompanyDrug\")\n",
    "# print(f\"{'Model':<15} {'Mean Accuracy':<15} {'Std Deviation':<15}\")\n",
    "# for model_name, metrics in results.items():\n",
    "#     print(f\"{model_name:<15} {metrics['mean_accuracy']:<15.4f} {metrics['std_accuracy']:<15.4f}\")"
   ]
  },
  {
   "cell_type": "code",
   "execution_count": 11,
   "metadata": {},
   "outputs": [],
   "source": [
    "from training_functions import *\n",
    "csv = '../lifespan_merged_datasets/mergedworms_terbinafin.csv'# Read the CSV file'# Read the CSV file\n",
    "data = pd.read_csv(csv)\n",
    "data.loc[data['drugged'] == 2, 'drugged'] = 1\n",
    "random_state = 42"
   ]
  },
  {
   "cell_type": "code",
   "execution_count": 12,
   "metadata": {},
   "outputs": [
    {
     "name": "stdout",
     "output_type": "stream",
     "text": [
      "Evaluating model: logistic\n",
      "Evaluating model: random_forest\n",
      "Evaluating model: decision_tree\n",
      "Evaluating model: svm\n",
      "Evaluating model: xgboost\n",
      "Evaluating model: knn\n",
      "Evaluating model: naive_bayes\n",
      "Evaluating model: mlp_classifier\n",
      "Evaluating model: stacking_classifier\n",
      "\n",
      "Model Evaluation Results: Classification of Terbinafin\n",
      "\n",
      "                 model  mean_accuracy  std_deviation\n",
      "0             logistic       0.272920       0.125347\n",
      "1        random_forest       0.306345       0.080516\n",
      "2        decision_tree       0.151252       0.142860\n",
      "3                  svm       0.419421       0.032188\n",
      "4              xgboost       0.167358       0.156587\n",
      "5                  knn       0.453511       0.088977\n",
      "6          naive_bayes       0.458993       0.279271\n",
      "7       mlp_classifier       0.372215       0.237812\n",
      "8  stacking_classifier       0.515698       0.075765\n"
     ]
    }
   ],
   "source": [
    "# Call the function with your dataset\n",
    "results = group_kfold_validation_all_models(data)\n",
    "\n",
    "results_binary_terbinafin = pd.DataFrame(results) #.sort_values(by=\"mean_accuracy\", ascending=False)\n",
    "\n",
    "print(\"\\nModel Evaluation Results: Classification of Terbinafin\\n\")\n",
    "print(results_binary_terbinafin)\n",
    "\n",
    "# # Print results as a table\n",
    "# print(\"\\nModel Evaluation Results: Classification of Terbinafin\")\n",
    "# print(f\"{'Model':<15} {'Mean Accuracy':<15} {'Std Deviation':<15}\")\n",
    "# for model_name, metrics in results.items():\n",
    "#     print(f\"{model_name:<15} {metrics['mean_accuracy']:<15.4f} {metrics['std_accuracy']:<15.4f}\")"
   ]
  },
  {
   "cell_type": "code",
   "execution_count": null,
   "metadata": {},
   "outputs": [],
   "source": []
  },
  {
   "cell_type": "markdown",
   "metadata": {},
   "source": [
    "## Repeat with combined Dataframe"
   ]
  },
  {
   "cell_type": "code",
   "execution_count": 13,
   "metadata": {},
   "outputs": [],
   "source": [
    "from training_functions import *\n",
    "csv1 = '../lifespan_merged_datasets/mergedworms_companyDrug.csv'# Read the CSV file'# Read the CSV file\n",
    "data1 = pd.read_csv(csv1)\n",
    "csv2 = '../lifespan_merged_datasets/mergedworms_terbinafin.csv'# Read the CSV file'# Read the CSV file\n",
    "data2 = pd.read_csv(csv2)\n",
    "random_state = 42\n",
    "\n",
    "# stack the two DataFrames\n",
    "data3 = pd.concat([data1, data2], ignore_index=True, axis=0)"
   ]
  },
  {
   "cell_type": "code",
   "execution_count": 14,
   "metadata": {},
   "outputs": [
    {
     "name": "stdout",
     "output_type": "stream",
     "text": [
      "Evaluating model: logistic\n",
      "Evaluating model: random_forest\n",
      "Evaluating model: decision_tree\n",
      "Evaluating model: svm\n",
      "Evaluating model: xgboost\n",
      "Evaluating model: knn\n",
      "Evaluating model: naive_bayes\n",
      "Evaluating model: mlp_classifier\n",
      "Evaluating model: stacking_classifier\n",
      "\n",
      "Model Evaluation Results: Multi-Class Classification\n",
      "\n",
      "                 model  mean_accuracy  std_deviation\n",
      "0             logistic       0.555643       0.102025\n",
      "1        random_forest       0.495251       0.046199\n",
      "2        decision_tree       0.361045       0.090887\n",
      "3                  svm       0.544557       0.095307\n",
      "4              xgboost       0.375563       0.041506\n",
      "5                  knn       0.437917       0.054565\n",
      "6          naive_bayes       0.474793       0.082899\n",
      "7       mlp_classifier       0.373942       0.064043\n",
      "8  stacking_classifier       0.504591       0.090657\n"
     ]
    }
   ],
   "source": [
    "# Call the function with your dataset\n",
    "results = group_kfold_validation_all_models(data3)\n",
    "\n",
    "results_multiclass = pd.DataFrame(results) #.sort_values(by=\"mean_accuracy\", ascending=False)\n",
    "\n",
    "print(\"\\nModel Evaluation Results: Multi-Class Classification\\n\")\n",
    "print(results_multiclass)"
   ]
  },
  {
   "cell_type": "code",
   "execution_count": 15,
   "metadata": {},
   "outputs": [],
   "source": [
    "results_binary_companydrug[\"task\"] = [\"Binary (CompanyDrug)\"] * 9\n",
    "results_binary_terbinafin[\"task\"] = [\"Binary (Terbinafin)\"] * 9\n",
    "results_multiclass[\"task\"] = [\"Multi-class\"] * 9\n",
    "all_results = pd.concat([results_binary_companydrug, results_binary_terbinafin, results_multiclass])"
   ]
  },
  {
   "cell_type": "markdown",
   "metadata": {},
   "source": [
    "### Plotting all Results"
   ]
  },
  {
   "cell_type": "code",
   "execution_count": 17,
   "metadata": {},
   "outputs": [
    {
     "data": {
      "image/png": "[encoded data removed]",
      "text/plain": [
       "<Figure size 1152x576 with 1 Axes>"
      ]
     },
     "metadata": {
      "needs_background": "light"
     },
     "output_type": "display_data"
    }
   ],
   "source": [
    "import seaborn as sns\n",
    "import matplotlib.pyplot as plt\n",
    "\n",
    "# Set up the plot\n",
    "plt.figure(figsize=(16, 8))\n",
    "\n",
    "# Barplot for mean accuracy\n",
    "sns.barplot(\n",
    "    data=all_results,\n",
    "    x=\"model\",\n",
    "    y=\"mean_accuracy\",\n",
    "    hue=\"task\",\n",
    "    ci=None  # Disable seaborn's internal confidence intervals\n",
    ")\n",
    "\n",
    "# Add error bars for individual bars\n",
    "for i, bar in enumerate(plt.gca().patches):\n",
    "    # Retrieve mean_accuracy and std_deviation from DataFrame\n",
    "    model = all_results.iloc[i % len(all_results)]  # Handles bar group looping\n",
    "    mean = model[\"mean_accuracy\"]\n",
    "    std = model[\"std_deviation\"]\n",
    "    \n",
    "    # Add error bar centered at the top of the bar\n",
    "    plt.errorbar(\n",
    "        x=bar.get_x() + bar.get_width() / 2,  # Center of the bar\n",
    "        y=mean,  # Mean value\n",
    "        yerr=std,  # Standard deviation as error\n",
    "        fmt='none',  # No marker\n",
    "        c='black',\n",
    "        capsize=5  # Small caps on error bars\n",
    "    )\n",
    "# Formatting the plot\n",
    "plt.title(\"Model Performance Across Tasks\", fontsize=16)\n",
    "plt.ylabel(\"Mean Accuracy\", fontsize=14)\n",
    "plt.xlabel(\"Model\", fontsize=14)\n",
    "plt.xticks(rotation=45)\n",
    "plt.legend(title=\"Task\")\n",
    "plt.tight_layout()\n",
    "\n",
    "# Show plot\n",
    "plt.show()\n"
   ]
  },
  {
   "cell_type": "markdown",
   "metadata": {},
   "source": [
    "Across both binary and multi-class tasks, consider:\n",
    "\n",
    "- SVM (High accuracy across tasks, good balance of mean and std deviation).\n",
    "- Random Forest (Consistently performs well with relatively low variance).\n",
    "- StackingClassifier (Strong in all tasks, handles complexity well).\n",
    "- Logistic Regression (Simple, effective, especially for binary classification).\n",
    "- Naive Bayes (Robust baseline for both binary and multi-class tasks).\n"
   ]
  },
  {
   "cell_type": "code",
   "execution_count": 30,
   "metadata": {},
   "outputs": [],
   "source": [
    "results_binary_companydrug.drop('task', axis=1)\n",
    "results_binary_terbinafin.drop('task', axis=1)\n",
    "results_multiclass.drop('task', axis=1)\n",
    "\n",
    "# Top 5 models for each task (manually determined based on results)\n",
    "top_5_classes = [\"svm\", \"stacking_classifier\", \"random_forest\", \"logistic\", \"naive_bayes\"]\n",
    "\n",
    "# Filter the results for top 5 models\n",
    "filtered_results_binary_companydrug = results_binary_companydrug[results_binary_companydrug[\"model\"].isin(top_5_classes)]\n",
    "filtered_results_binary_terbinafin = results_binary_terbinafin[results_binary_terbinafin[\"model\"].isin(top_5_classes)]\n",
    "filtered_results_multiclass = results_multiclass[results_multiclass[\"model\"].isin(top_5_classes)]\n",
    "\n",
    "\n"
   ]
  },
  {
   "cell_type": "code",
   "execution_count": 41,
   "metadata": {},
   "outputs": [
    {
     "data": {
      "image/png": "[encoded data removed]",
      "text/plain": [
       "<Figure size 720x432 with 1 Axes>"
      ]
     },
     "metadata": {
      "needs_background": "light"
     },
     "output_type": "display_data"
    },
    {
     "data": {
      "image/png": "[encoded data removed]",
      "text/plain": [
       "<Figure size 720x432 with 1 Axes>"
      ]
     },
     "metadata": {
      "needs_background": "light"
     },
     "output_type": "display_data"
    },
    {
     "data": {
      "image/png": "[encoded data removed]",
      "text/plain": [
       "<Figure size 720x432 with 1 Axes>"
      ]
     },
     "metadata": {
      "needs_background": "light"
     },
     "output_type": "display_data"
    }
   ],
   "source": [
    "plots_df = [filtered_results_binary_companydrug, filtered_results_binary_terbinafin, filtered_results_multiclass]\n",
    "plt.rcParams.update({'errorbar.capsize': 20})\n",
    "# print(filtered_results_binary_companydrug)\n",
    "count = 0\n",
    "for df in plots_df:\n",
    "    # print(df)\n",
    "# Create the bar plot\n",
    "    plt.figure(figsize=(10, 6))\n",
    "    sns.barplot(x='model', y='mean_accuracy', data=df, yerr=df['std_deviation'], ecolor='black')\n",
    "    if count == 0:\n",
    "    # Add labels and title\n",
    "        plt.title('Binary Classification (CompanyDrug) Results: Model Accuracy')\n",
    "    elif count == 1:\n",
    "        plt.title('Binary Classification (Terbinafin) Results: Model Accuracy')\n",
    "    else:\n",
    "        plt.title('Multi-class Classification Results: Model Accuracy')\n",
    "    plt.xlabel('Model')\n",
    "    plt.ylabel('Mean Accuracy')\n",
    "\n",
    "    # Show the plot\n",
    "    plt.xticks(rotation=45)\n",
    "    plt.tight_layout()\n",
    "    plt.show()\n",
    "    \n",
    "    count += 1"
   ]
  },
  {
   "cell_type": "code",
   "execution_count": null,
   "metadata": {},
   "outputs": [],
   "source": []
  }
 ],
 "metadata": {
  "kernelspec": {
   "display_name": "base",
   "language": "python",
   "name": "python3"
  },
  "language_info": {
   "codemirror_mode": {
    "name": "ipython",
    "version": 3
   },
   "file_extension": ".py",
   "mimetype": "text/x-python",
   "name": "python",
   "nbconvert_exporter": "python",
   "pygments_lexer": "ipython3",
   "version": "3.7.4"
  }
 },
 "nbformat": 4,
 "nbformat_minor": 2
}
